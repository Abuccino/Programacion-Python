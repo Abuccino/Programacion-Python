{
 "cells": [
  {
   "cell_type": "code",
   "execution_count": 2,
   "metadata": {},
   "outputs": [
    {
     "name": "stdout",
     "output_type": "stream",
     "text": [
      "['cancún', 'miami', 'positano', 'amsterdam', 'sidney']\n"
     ]
    }
   ],
   "source": [
    "ciudades=[\"cancún\", \"miami\", \"positano\", \"amsterdam\",\"sidney\"]\n",
    "print(ciudades)"
   ]
  },
  {
   "cell_type": "code",
   "execution_count": 6,
   "metadata": {},
   "outputs": [
    {
     "data": {
      "text/plain": [
       "'miami'"
      ]
     },
     "execution_count": 6,
     "metadata": {},
     "output_type": "execute_result"
    }
   ],
   "source": [
    "ciudades[1]"
   ]
  },
  {
   "cell_type": "code",
   "execution_count": 7,
   "metadata": {},
   "outputs": [
    {
     "data": {
      "text/plain": [
       "['miami', 'positano', 'amsterdam']"
      ]
     },
     "execution_count": 7,
     "metadata": {},
     "output_type": "execute_result"
    }
   ],
   "source": [
    "ciudades[1:4]"
   ]
  },
  {
   "cell_type": "code",
   "execution_count": 9,
   "metadata": {},
   "outputs": [
    {
     "name": "stdout",
     "output_type": "stream",
     "text": [
      "['cancún', 'miami', 'positano', 'amsterdam', 'sidney', 'barcelona', 'barcelona']\n",
      "['cancún', 'miami', 'positano', 'amsterdam', 'sidney', 'barcelona', 'barcelona', 'miami']\n"
     ]
    }
   ],
   "source": [
    "ciudades.append(\"barcelona\")\n",
    "print(ciudades)\n",
    "ciudades.append(\"miami\")\n",
    "print(ciudades)"
   ]
  },
  {
   "cell_type": "code",
   "execution_count": 10,
   "metadata": {},
   "outputs": [
    {
     "name": "stdout",
     "output_type": "stream",
     "text": [
      "['cancún', 'miami', 'positano', 'oslo', 'amsterdam', 'sidney', 'barcelona', 'barcelona', 'miami']\n"
     ]
    }
   ],
   "source": [
    "ciudades.insert(3,\"oslo\")\n",
    "print(ciudades)"
   ]
  },
  {
   "cell_type": "code",
   "execution_count": 11,
   "metadata": {},
   "outputs": [
    {
     "name": "stdout",
     "output_type": "stream",
     "text": [
      "['cancún', 'miami', 'positano', 'oslo', 'amsterdam', 'sidney', 'barcelona', 'barcelona', 'miami', 1, 2, 3]\n"
     ]
    }
   ],
   "source": [
    "numeros=[1,2,3]\n",
    "ciudades.extend(numeros)\n",
    "print(ciudades)"
   ]
  },
  {
   "cell_type": "code",
   "execution_count": 12,
   "metadata": {},
   "outputs": [
    {
     "name": "stdout",
     "output_type": "stream",
     "text": [
      "(1, 2, 3, 4, 5, 6, 7, 8, 9, 10, 11, 12, 13, 14, 15, 16, 17, 18, 19, 20)\n"
     ]
    }
   ],
   "source": [
    "num=(1,2,3,4,5,6,7,8,9,10,11,12,13,14,15,16,17,18,19,20)\n",
    "print(num)"
   ]
  },
  {
   "cell_type": "code",
   "execution_count": 14,
   "metadata": {},
   "outputs": [
    {
     "data": {
      "text/plain": [
       "(10, 11, 12, 13, 14, 15)"
      ]
     },
     "execution_count": 14,
     "metadata": {},
     "output_type": "execute_result"
    }
   ],
   "source": [
    "num[9:15]"
   ]
  },
  {
   "cell_type": "code",
   "execution_count": 21,
   "metadata": {},
   "outputs": [
    {
     "name": "stdout",
     "output_type": "stream",
     "text": [
      "1\n",
      "2\n",
      "3\n"
     ]
    }
   ],
   "source": [
    "num=(1,2,3,4,5,6,7,8,9,10,11,12,13,14,15,16,17,18,19,20)\n",
    "num1 , num2, num3, *otros=num\n",
    "print(num1)\n",
    "print(num2)\n",
    "print(num3)\n",
    "\n"
   ]
  },
  {
   "cell_type": "code",
   "execution_count": 32,
   "metadata": {},
   "outputs": [
    {
     "name": "stdout",
     "output_type": "stream",
     "text": [
      "{'ciudad': ['cancún', 'miami', 'positano', 'amsterdam', 'sidney'], 'país': ['méxico', 'EEUU', 'italia', 'alemania', 'autralia'], 'continente': ['america', 'america', 'europa', 'europa', 'oceanía']}\n"
     ]
    }
   ],
   "source": [
    "ciudades=[\"cancún\", \"miami\", \"positano\", \"amsterdam\",\"sidney\"]\n",
    "geografía= {\"ciudad\":(ciudades),  \n",
    "           \"país\":[\"méxico\", \"EEUU\",\"italia\",\"alemania\",\"autralia\"],\n",
    "           \"continente\": [\"america\", \"america\",\"europa\",\"europa\", \"oceanía\"]}\n",
    "           \n",
    "print(geografía)"
   ]
  },
  {
   "cell_type": "code",
   "execution_count": 33,
   "metadata": {},
   "outputs": [
    {
     "data": {
      "text/plain": [
       "dict_keys(['ciudad', 'país', 'continente'])"
      ]
     },
     "execution_count": 33,
     "metadata": {},
     "output_type": "execute_result"
    }
   ],
   "source": [
    "geografía.keys()"
   ]
  },
  {
   "cell_type": "code",
   "execution_count": 35,
   "metadata": {},
   "outputs": [
    {
     "data": {
      "text/plain": [
       "['cancún', 'miami', 'positano', 'amsterdam', 'sidney']"
      ]
     },
     "execution_count": 35,
     "metadata": {},
     "output_type": "execute_result"
    }
   ],
   "source": [
    "geografía.get(\"ciudad\")"
   ]
  },
  {
   "cell_type": "code",
   "execution_count": 44,
   "metadata": {},
   "outputs": [
    {
     "name": "stdout",
     "output_type": "stream",
     "text": [
      "el número es mayor a cero.\n"
     ]
    }
   ],
   "source": [
    "num_entero= 6\n",
    "if num_entero > 0:\n",
    "    print(\"el número es mayor a cero.\")\n",
    "else:\n",
    "    print(\"el número es menor a cero.\")"
   ]
  },
  {
   "cell_type": "code",
   "execution_count": 50,
   "metadata": {},
   "outputs": [
    {
     "name": "stdout",
     "output_type": "stream",
     "text": [
      "son distinto tipo de dato\n"
     ]
    }
   ],
   "source": [
    "variable_1= \"Perro\"\n",
    "variable_2= 3\n",
    "if (variable_1==variable_2):\n",
    "    print(\"son el mismo tipo de dato\")\n",
    "else:\n",
    "    print(\"son distinto tipo de dato\")"
   ]
  },
  {
   "cell_type": "code",
   "execution_count": 56,
   "metadata": {},
   "outputs": [
    {
     "name": "stdout",
     "output_type": "stream",
     "text": [
      "1 es número impar\n",
      "2 es número par\n",
      "3 es número impar\n",
      "4 es número par\n",
      "5 es número impar\n",
      "6 es número par\n",
      "7 es número impar\n",
      "8 es número par\n",
      "9 es número impar\n",
      "10 es número par\n",
      "11 es número impar\n",
      "12 es número par\n",
      "13 es número impar\n",
      "14 es número par\n",
      "15 es número impar\n",
      "16 es número par\n",
      "17 es número impar\n",
      "18 es número par\n",
      "19 es número impar\n",
      "20 es número par\n"
     ]
    }
   ],
   "source": [
    "for num in range (1,21):\n",
    "    if num %2 == 0:\n",
    "        print(num, \"es número par\")\n",
    "    else:\n",
    "        print(num, \"es número impar\")"
   ]
  },
  {
   "cell_type": "code",
   "execution_count": 57,
   "metadata": {},
   "outputs": [
    {
     "name": "stdout",
     "output_type": "stream",
     "text": [
      "0\n",
      "1\n",
      "8\n",
      "27\n",
      "64\n",
      "125\n"
     ]
    }
   ],
   "source": [
    "for i in range(0,6):\n",
    "    print(i**3)\n"
   ]
  },
  {
   "cell_type": "code",
   "execution_count": 66,
   "metadata": {},
   "outputs": [
    {
     "name": "stdout",
     "output_type": "stream",
     "text": [
      "0\n",
      "1\n",
      "2\n",
      "3\n",
      "4\n",
      "5\n"
     ]
    }
   ],
   "source": [
    "mi_variable= 6\n",
    "for i in range(mi_variable):\n",
    "    print(i)\n",
    "    if i >= mi_variable:\n",
    "        break"
   ]
  },
  {
   "cell_type": "code",
   "execution_count": 91,
   "metadata": {},
   "outputs": [
    {
     "name": "stdout",
     "output_type": "stream",
     "text": [
      "el factorial de 4 es: 1\n",
      "el factorial de 4 es: 2\n",
      "el factorial de 4 es: 6\n",
      "el factorial de 4 es: 24\n"
     ]
    }
   ],
   "source": [
    "variable_3= 4\n",
    "if isinstance(variable_3,int) and variable_3>0:\n",
    "    factorial=1\n",
    "    contador=1\n",
    "    while contador<=variable_3:\n",
    "        factorial*=contador\n",
    "        contador += 1\n",
    "        print(\"el factorial de\", variable_3,\"es:\",factorial)\n",
    "else:\n",
    "    print(\"el numero no es un entero mayor a 0\")        "
   ]
  },
  {
   "cell_type": "code",
   "execution_count": 94,
   "metadata": {},
   "outputs": [
    {
     "name": "stdout",
     "output_type": "stream",
     "text": [
      "108\n",
      "120\n",
      "132\n",
      "144\n",
      "156\n",
      "168\n",
      "180\n",
      "192\n",
      "204\n",
      "216\n",
      "228\n",
      "240\n",
      "252\n",
      "264\n",
      "276\n",
      "288\n",
      "300\n"
     ]
    }
   ],
   "source": [
    "numero=100\n",
    "while numero <= 300:\n",
    "    if numero % 12 !=0:\n",
    "        numero +=1\n",
    "        continue\n",
    "    print(numero)\n",
    "    numero +=1\n",
    "        "
   ]
  },
  {
   "cell_type": "code",
   "execution_count": 98,
   "metadata": {},
   "outputs": [
    {
     "name": "stdout",
     "output_type": "stream",
     "text": [
      "la letra n aparece en las siguientes posiciones: \n",
      "[7, 21, 38, 59, 66]\n"
     ]
    }
   ],
   "source": [
    "cadena= \"hola mundo. esto es una práctica de lenguaje de programación Python\"\n",
    "buscar=\"n\"\n",
    "posiciones=[]\n",
    "for i in range(len(cadena)):\n",
    "    if cadena[i] == buscar:\n",
    "        posiciones.append(i)\n",
    "print(\"la letra n aparece en las siguientes posiciones: \")\n",
    "print(posiciones)"
   ]
  },
  {
   "cell_type": "code",
   "execution_count": 100,
   "metadata": {},
   "outputs": [
    {
     "data": {
      "text/plain": [
       "list['hola mundo. esto es una práctica de lenguaje de programación Python']"
      ]
     },
     "execution_count": 100,
     "metadata": {},
     "output_type": "execute_result"
    }
   ],
   "source": [
    "list[cadena]"
   ]
  },
  {
   "cell_type": "code",
   "execution_count": 105,
   "metadata": {},
   "outputs": [
    {
     "name": "stdout",
     "output_type": "stream",
     "text": [
      "h\n",
      "o\n",
      "l\n",
      "a\n",
      " \n",
      "m\n",
      "u\n",
      "n\n",
      "d\n",
      "o\n",
      ".\n",
      " \n",
      "e\n",
      "s\n",
      "t\n",
      "o\n",
      " \n",
      "e\n",
      "s\n",
      " \n",
      "u\n",
      "n\n",
      "a\n",
      " \n",
      "p\n",
      "r\n",
      "á\n",
      "c\n",
      "t\n",
      "i\n",
      "c\n",
      "a\n",
      " \n",
      "d\n",
      "e\n",
      " \n",
      "l\n",
      "e\n",
      "n\n",
      "g\n",
      "u\n",
      "a\n",
      "j\n",
      "e\n",
      " \n",
      "d\n",
      "e\n",
      " \n",
      "p\n",
      "r\n",
      "o\n",
      "g\n",
      "r\n",
      "a\n",
      "m\n",
      "a\n",
      "c\n",
      "i\n",
      "ó\n",
      "n\n",
      " \n",
      "P\n",
      "y\n",
      "t\n",
      "h\n",
      "o\n",
      "n\n"
     ]
    }
   ],
   "source": [
    "for i in cadena:\n",
    "    print(i)"
   ]
  }
 ],
 "metadata": {
  "kernelspec": {
   "display_name": "Python 3",
   "language": "python",
   "name": "python3"
  },
  "language_info": {
   "codemirror_mode": {
    "name": "ipython",
    "version": 3
   },
   "file_extension": ".py",
   "mimetype": "text/x-python",
   "name": "python",
   "nbconvert_exporter": "python",
   "pygments_lexer": "ipython3",
   "version": "3.9.13"
  },
  "orig_nbformat": 4
 },
 "nbformat": 4,
 "nbformat_minor": 2
}

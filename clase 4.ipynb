{
 "cells": [
  {
   "cell_type": "code",
   "execution_count": 34,
   "metadata": {},
   "outputs": [
    {
     "name": "stdout",
     "output_type": "stream",
     "text": [
      "['Jujuy', 'misiones', 'formosa', 'tucumán', 'Neuquén']\n"
     ]
    }
   ],
   "source": [
    "#actividad 1\n",
    "#1. Crear una lista que contenga nombres de provincias Argentinas, que contenga más de 5 elementos e imprimir por pantalla\n",
    "mi_lista=[\"Jujuy\", \"misiones\", \"formosa\", \"tucumán\", \"Neuquén\"]\n",
    "print(mi_lista)\n"
   ]
  },
  {
   "cell_type": "code",
   "execution_count": 33,
   "metadata": {},
   "outputs": [
    {
     "data": {
      "text/plain": [
       "'formosa'"
      ]
     },
     "execution_count": 33,
     "metadata": {},
     "output_type": "execute_result"
    }
   ],
   "source": [
    "#2. Imprimir por pantalla el tercer elemento de la lista\n",
    "mi_lista=[\"Jujuy\", \"misiones\", \"formosa\", \"tucumán\", \"Neuquén\"]\n",
    "mi_lista [2]"
   ]
  },
  {
   "cell_type": "code",
   "execution_count": 32,
   "metadata": {},
   "outputs": [
    {
     "data": {
      "text/plain": [
       "['misiones', 'formosa', 'tucumán']"
      ]
     },
     "execution_count": 32,
     "metadata": {},
     "output_type": "execute_result"
    }
   ],
   "source": [
    "#3. Imprimir por pantalla del segundo al cuarto elemento\n",
    "mi_lista=[\"Jujuy\", \"misiones\", \"formosa\", \"tucumán\", \"Neuquén\"]\n",
    "mi_lista [1:4]"
   ]
  },
  {
   "cell_type": "code",
   "execution_count": 30,
   "metadata": {},
   "outputs": [
    {
     "name": "stdout",
     "output_type": "stream",
     "text": [
      "<class 'list'>\n"
     ]
    }
   ],
   "source": [
    "#4. Mostrar el tipo de dato de la lista\n",
    "mi_lista=[\"Jujuy\", \"misiones\", \"formosa\", \"tucumán\", \"Neuquén\"]\n",
    "print(type(mi_lista))"
   ]
  },
  {
   "cell_type": "code",
   "execution_count": 31,
   "metadata": {},
   "outputs": [
    {
     "data": {
      "text/plain": [
       "['Jujuy', 'misiones', 'formosa', 'tucumán']"
      ]
     },
     "execution_count": 31,
     "metadata": {},
     "output_type": "execute_result"
    }
   ],
   "source": [
    "#5. Mostrar los primeros 4 elementos de la lista\n",
    "mi_lista [0:4]"
   ]
  },
  {
   "cell_type": "code",
   "execution_count": 44,
   "metadata": {},
   "outputs": [
    {
     "name": "stdout",
     "output_type": "stream",
     "text": [
      "['Jujuy', 'misiones', 'formosa', 'tucumán', 'Neuquén', 'buenos aires']\n",
      "['Jujuy', 'misiones', 'formosa', 'tucumán', 'Neuquén', 'buenos aires', 'Santa fe']\n"
     ]
    }
   ],
   "source": [
    "#6. Agregar una provincia más a la lista que ya exista y otra que no.\n",
    "mi_lista=[\"Jujuy\", \"misiones\", \"formosa\", \"tucumán\", \"Neuquén\"]\n",
    "mi_lista.append(\"buenos aires\")\n",
    "print(mi_lista)\n",
    "mi_lista1=[\"Santa fe\"]\n",
    "mi_lista.extend(mi_lista1)\n",
    "print(mi_lista)"
   ]
  },
  {
   "cell_type": "code",
   "execution_count": 45,
   "metadata": {},
   "outputs": [
    {
     "name": "stdout",
     "output_type": "stream",
     "text": [
      "['Jujuy', 'misiones', 'formosa', 'Salta', 'tucumán', 'Neuquén', 'buenos aires', 'Santa fe']\n"
     ]
    }
   ],
   "source": [
    "#7. Agregar una provincia, pero en la cuarta posición.\n",
    "mi_lista.insert(3,\"Salta\")\n",
    "print(mi_lista)"
   ]
  },
  {
   "cell_type": "code",
   "execution_count": 46,
   "metadata": {},
   "outputs": [
    {
     "name": "stdout",
     "output_type": "stream",
     "text": [
      "['Jujuy', 'misiones', 'formosa', 'Salta', 'tucumán', 'Neuquén', 'buenos aires', 'Santa fe', 'San Luis', 'san Juan']\n"
     ]
    }
   ],
   "source": [
    "#8. Extender otra lista a la ya creada.\n",
    "mi_lista2=[\"San Luis\", \"san Juan\"]\n",
    "mi_lista.extend(mi_lista2)\n",
    "print(mi_lista)"
   ]
  },
  {
   "cell_type": "code",
   "execution_count": 47,
   "metadata": {},
   "outputs": [
    {
     "name": "stdout",
     "output_type": "stream",
     "text": [
      "['Jujuy', 'formosa', 'Salta', 'tucumán', 'Neuquén', 'buenos aires', 'Santa fe', 'San Luis', 'san Juan']\n"
     ]
    }
   ],
   "source": [
    "#9. Eliminar un elemento de la lista.\n",
    "del(mi_lista[1])\n",
    "print(mi_lista)"
   ]
  },
  {
   "cell_type": "code",
   "execution_count": 54,
   "metadata": {},
   "outputs": [
    {
     "name": "stdout",
     "output_type": "stream",
     "text": [
      "San Juan\n"
     ]
    }
   ],
   "source": [
    "#10.Extraer el último elemento de la lista, guardarlo en una variable e imprimirlo.\n",
    "mi_lista[8]\n",
    "provincia=\"San Juan\"\n",
    "print(provincia)"
   ]
  },
  {
   "cell_type": "code",
   "execution_count": 55,
   "metadata": {},
   "outputs": [
    {
     "name": "stdout",
     "output_type": "stream",
     "text": [
      "(1, 2, 3, 4, 5, 6, 7, 8, 9, 10, 11, 12, 13, 14, 15, 16, 17, 18, 19, 20)\n"
     ]
    }
   ],
   "source": [
    "#actividad 2\n",
    "#1. Crear una tupla que contenga los números enteros del 1 al 20\n",
    "lista=(1,2,3,4,5,6,7,8,9,10,11,12,13,14,15,16,17,18,19,20)\n",
    "print(lista)"
   ]
  },
  {
   "cell_type": "code",
   "execution_count": 57,
   "metadata": {},
   "outputs": [
    {
     "name": "stdout",
     "output_type": "stream",
     "text": [
      "(11, 12, 13, 14, 15)\n"
     ]
    }
   ],
   "source": [
    "#2. Imprimir desde el índice 10 al 15 de la tupla\n",
    "print(lista[10:15])"
   ]
  },
  {
   "cell_type": "code",
   "execution_count": 68,
   "metadata": {},
   "outputs": [
    {
     "data": {
      "text/plain": [
       "1"
      ]
     },
     "execution_count": 68,
     "metadata": {},
     "output_type": "execute_result"
    }
   ],
   "source": [
    "#3. Mostrar la cantidad de veces que se encuentra un elemento específico dentro de la tupla y de la lista (utilizar count)\n",
    "lista.count(3)\n",
    "mi_lista.count(\"buenos aires\")"
   ]
  },
  {
   "cell_type": "code",
   "execution_count": 69,
   "metadata": {},
   "outputs": [
    {
     "data": {
      "text/plain": [
       "[1, 2, 3, 4, 5, 6, 7, 8, 9, 10, 11, 12, 13, 14, 15, 16, 17, 18, 19, 20]"
      ]
     },
     "execution_count": 69,
     "metadata": {},
     "output_type": "execute_result"
    }
   ],
   "source": [
    "#4. Convertir la tupla en una lista\n",
    "list(lista)"
   ]
  },
  {
   "cell_type": "code",
   "execution_count": 71,
   "metadata": {},
   "outputs": [
    {
     "name": "stdout",
     "output_type": "stream",
     "text": [
      "1\n",
      "2\n",
      "3\n"
     ]
    }
   ],
   "source": [
    "#5. Desempaquetar solo los primeros 3 elementos de la tupla en 3 variables\n",
    "primero,segundo,tercero,*_= lista\n",
    "print(primero)\n",
    "print(segundo)\n",
    "print(tercero)"
   ]
  },
  {
   "cell_type": "code",
   "execution_count": 88,
   "metadata": {},
   "outputs": [
    {
     "name": "stdout",
     "output_type": "stream",
     "text": [
      "{'nombre': 'anabella', 'edad': 34, 'carrera': 'tecnicatura en ciencia de datos e inteligencia artificial'}\n"
     ]
    }
   ],
   "source": [
    "#actividad número 3 diccionarios\n",
    "#1. Crear un diccionario que contenga nombre, edad y carrera de un alumno y mostrar el diccionario completo.\n",
    "diccionario= {\"nombre\": \"anabella\",\n",
    "              \"edad\":  34,\n",
    "              \"carrera\": \"tecnicatura en ciencia de datos e inteligencia artificial\"}\n",
    "print(diccionario)"
   ]
  },
  {
   "cell_type": "code",
   "execution_count": 89,
   "metadata": {},
   "outputs": [
    {
     "data": {
      "text/plain": [
       "'anabella'"
      ]
     },
     "execution_count": 89,
     "metadata": {},
     "output_type": "execute_result"
    }
   ],
   "source": [
    "#2. Utilizar el método get para mostrar el valor de la clave nombre.\n",
    "diccionario.get(\"nombre\")"
   ]
  },
  {
   "cell_type": "code",
   "execution_count": 90,
   "metadata": {},
   "outputs": [
    {
     "data": {
      "text/plain": [
       "{'nombre': 'anabella',\n",
       " 'edad': 25,\n",
       " 'carrera': 'tecnicatura en ciencia de datos e inteligencia artificial'}"
      ]
     },
     "execution_count": 90,
     "metadata": {},
     "output_type": "execute_result"
    }
   ],
   "source": [
    "#3. Cambiar la edad del alumno y mostrar el diccionario completo.\n",
    "diccionario[\"edad\"]=25\n",
    "diccionario"
   ]
  },
  {
   "cell_type": "code",
   "execution_count": 91,
   "metadata": {},
   "outputs": [
    {
     "data": {
      "text/plain": [
       "{'nombre': 'anabella',\n",
       " 'edad': 25,\n",
       " 'carrera': 'tecnicatura en ciencia de datos e inteligencia artificial',\n",
       " 'sexo': 'femenino'}"
      ]
     },
     "execution_count": 91,
     "metadata": {},
     "output_type": "execute_result"
    }
   ],
   "source": [
    "#4. Agrear un par clave valor que contenga el sexo del alumno. Mostrar el diccionario completo.\n",
    "diccionario[\"sexo\"]=\"femenino\"\n",
    "diccionario"
   ]
  },
  {
   "cell_type": "code",
   "execution_count": 92,
   "metadata": {},
   "outputs": [
    {
     "data": {
      "text/plain": [
       "{'nombre': 'anabella',\n",
       " 'carrera': 'tecnicatura en ciencia de datos e inteligencia artificial',\n",
       " 'sexo': 'femenino'}"
      ]
     },
     "execution_count": 92,
     "metadata": {},
     "output_type": "execute_result"
    }
   ],
   "source": [
    "#5. Usar el método pop() para remover la edad del alumno. Mostrar el diccionario completo.\n",
    "diccionario.pop(\"edad\")\n",
    "diccionario"
   ]
  },
  {
   "cell_type": "code",
   "execution_count": 94,
   "metadata": {},
   "outputs": [
    {
     "name": "stdout",
     "output_type": "stream",
     "text": [
      "{'alumno': 'juan', 'programación II': 9, 'ciencia de datos': 9, 'programación I': 10}\n"
     ]
    }
   ],
   "source": [
    "#6. Crear un diccionario que contenga las notas de un alumno en tres materias. Las materias son programación II, ciencia de datos,programación I.\n",
    "evaluaciones= {\"alumno\": \"juan\",\n",
    "               \"programación II\": 9,\n",
    "               \"ciencia de datos\": 9,\n",
    "               \"programación I\":10}\n",
    "print(evaluaciones)"
   ]
  },
  {
   "cell_type": "code",
   "execution_count": 95,
   "metadata": {},
   "outputs": [
    {
     "data": {
      "text/plain": [
       "dict_items([('alumno', 'juan'), ('programación II', 9), ('ciencia de datos', 9), ('programación I', 10)])"
      ]
     },
     "execution_count": 95,
     "metadata": {},
     "output_type": "execute_result"
    }
   ],
   "source": [
    "#7. Mostrar todos los ítems del diccionario de notas.\n",
    "evaluaciones.items()"
   ]
  },
  {
   "cell_type": "code",
   "execution_count": 99,
   "metadata": {},
   "outputs": [
    {
     "name": "stdout",
     "output_type": "stream",
     "text": [
      "{'alumno': 'juan', 'programación II': 9, 'ciencia de datos': 9, 'programación I': 10}\n"
     ]
    }
   ],
   "source": [
    "#8. Crear un nuevo diccionario que sea una copia del diccionario de notas del alumno. Mostrar los datos del nuevo diccionario.\n",
    "evaluaciones1= evaluaciones.copy()\n",
    "print(evaluaciones1)"
   ]
  },
  {
   "cell_type": "code",
   "execution_count": 100,
   "metadata": {},
   "outputs": [
    {
     "data": {
      "text/plain": [
       "dict_values(['juan', 9, 9, 10])"
      ]
     },
     "execution_count": 100,
     "metadata": {},
     "output_type": "execute_result"
    }
   ],
   "source": [
    "#9. Mostrar los valores del diccionario de notas.\n",
    "evaluaciones.values()"
   ]
  },
  {
   "cell_type": "code",
   "execution_count": 101,
   "metadata": {},
   "outputs": [
    {
     "data": {
      "text/plain": [
       "4"
      ]
     },
     "execution_count": 101,
     "metadata": {},
     "output_type": "execute_result"
    }
   ],
   "source": [
    "#10.Mostrar la longitud del diccionario de notas.\n",
    "len(evaluaciones)"
   ]
  }
 ],
 "metadata": {
  "kernelspec": {
   "display_name": "Python 3",
   "language": "python",
   "name": "python3"
  },
  "language_info": {
   "codemirror_mode": {
    "name": "ipython",
    "version": 3
   },
   "file_extension": ".py",
   "mimetype": "text/x-python",
   "name": "python",
   "nbconvert_exporter": "python",
   "pygments_lexer": "ipython3",
   "version": "3.9.13"
  },
  "orig_nbformat": 4
 },
 "nbformat": 4,
 "nbformat_minor": 2
}

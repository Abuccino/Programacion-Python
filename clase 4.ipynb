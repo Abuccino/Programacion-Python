{
 "cells": [
  {
   "cell_type": "code",
   "execution_count": 7,
   "metadata": {},
   "outputs": [
    {
     "name": "stdout",
     "output_type": "stream",
     "text": [
      "('Jujuy', 'misiones', 'formosa', 'tucumán', 'Neuquén')\n"
     ]
    }
   ],
   "source": [
    "#1. Crear una lista que contenga nombres de provincias Argentinas, que contenga más de 5 elementos e imprimir por pantalla\n",
    "mi_lista=(\"Jujuy\", \"misiones\", \"formosa\", \"tucumán\", \"Neuquén\")\n",
    "print(mi_lista)\n"
   ]
  },
  {
   "cell_type": "code",
   "execution_count": 19,
   "metadata": {},
   "outputs": [
    {
     "data": {
      "text/plain": [
       "'formosa'"
      ]
     },
     "execution_count": 19,
     "metadata": {},
     "output_type": "execute_result"
    }
   ],
   "source": [
    "#2. Imprimir por pantalla el tercer elemento de la lista\n",
    "mi_lista=(\"Jujuy\", \"misiones\", \"formosa\", \"tucumán\", \"Neuquén\")\n",
    "mi_lista [2]"
   ]
  },
  {
   "cell_type": "code",
   "execution_count": 23,
   "metadata": {},
   "outputs": [
    {
     "data": {
      "text/plain": [
       "('misiones', 'formosa', 'tucumán')"
      ]
     },
     "execution_count": 23,
     "metadata": {},
     "output_type": "execute_result"
    }
   ],
   "source": [
    "#3. Imprimir por pantalla del segundo al cuarto elemento\n",
    "mi_lista=(\"Jujuy\", \"misiones\", \"formosa\", \"tucumán\", \"Neuquén\")\n",
    "mi_lista [1:4]"
   ]
  },
  {
   "cell_type": "code",
   "execution_count": null,
   "metadata": {},
   "outputs": [],
   "source": []
  }
 ],
 "metadata": {
  "kernelspec": {
   "display_name": "Python 3",
   "language": "python",
   "name": "python3"
  },
  "language_info": {
   "codemirror_mode": {
    "name": "ipython",
    "version": 3
   },
   "file_extension": ".py",
   "mimetype": "text/x-python",
   "name": "python",
   "nbconvert_exporter": "python",
   "pygments_lexer": "ipython3",
   "version": "3.9.13"
  },
  "orig_nbformat": 4
 },
 "nbformat": 4,
 "nbformat_minor": 2
}
